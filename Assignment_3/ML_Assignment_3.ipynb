{
 "cells": [
  {
   "cell_type": "markdown",
   "metadata": {},
   "source": [
    "# Assignment 3 - Clustering & Association Rules"
   ]
  },
  {
   "cell_type": "markdown",
   "metadata": {},
   "source": [
    "***\n",
    "\n",
    "## Team\n",
    "- Kevin Huber\n",
    "- Markus Kaufmann\n",
    "- Luca Rava\n",
    "\n",
    "***"
   ]
  },
  {
   "cell_type": "markdown",
   "metadata": {},
   "source": [
    "\n",
    "## Exercise 2: Clustering\n",
    "\n",
    "<br>\n",
    "_STUcard provided us with an anonymized dump of their member database. It contains >65K\n",
    "real member profiles randomly sampled from a total of >300K member profiles. We are given\n",
    "access to the following information:_\n",
    "<br><br>\n",
    "- `Geschlecht:` \n",
    "    - 0 = M \n",
    "    - 1 = W\n",
    "- `Akademiker:` \n",
    "    - 0 = obligatorische Schulbildung\n",
    "    - 1 = Matura\n",
    "    - 2 = FH\n",
    "    - 3 = Uni / ETH\n",
    "- `Auto:` \n",
    "    - 0 = nein\n",
    "    - 1 = ja\n",
    "- `Wohnsituation:` \n",
    "    - 0 = Hotel Mama\n",
    "    - 1 = WG\n",
    "    - 2 = eigene Wohnung\n",
    "- `Online-Affinität:` \n",
    "    - Verhalten auf STUcard.ch Website &amp; Mobile App (Tracking)\n",
    "\n",
    "<br><br>\n",
    "_The STUcard.ch marketers plan to develop marketing campaigns for **5 different target groups**,\n",
    "while the number five is primarily motivated by the available marketing budget. Our task is to\n",
    "identify these target groups and to support specification of the different campaigns by investigating\n",
    "the characteristics of each target group._\n",
    "<br><br>"
   ]
  },
  {
   "cell_type": "markdown",
   "metadata": {},
   "source": [
    "\n",
    "***\n",
    "<br>\n",
    "### 1. Import data"
   ]
  },
  {
   "cell_type": "code",
   "execution_count": 1,
   "metadata": {
    "scrolled": true
   },
   "outputs": [
    {
     "name": "stdout",
     "output_type": "stream",
     "text": [
      "Index(['Geschlecht', 'Alter', 'Akademiker', 'Auto', 'Wohnsituation',\n",
      "       'Online-Affin'],\n",
      "      dtype='object')\n",
      "   Geschlecht  Alter  Akademiker  Auto  Wohnsituation  Online-Affin\n",
      "0           0     38           2     1              1             0\n",
      "1           0     33           2     0              0             0\n",
      "2           0     30           0     0              0             0\n",
      "3           0     26           0     0              0             0\n",
      "4           0     30           0     0              0            36\n",
      "65535\n"
     ]
    }
   ],
   "source": [
    "import pandas as pd\n",
    "import seaborn as sns\n",
    "import matplotlib.pyplot as plt\n",
    "import numpy as np\n",
    "\n",
    "data = pd.read_excel(r\"STUcard Member Data.xls\")\n",
    "print(data.columns)\n",
    "print(data.head())\n",
    "print(data.shape[0])"
   ]
  },
  {
   "cell_type": "markdown",
   "metadata": {},
   "source": [
    "\n",
    "***\n",
    "### 2. Check for duplicates"
   ]
  },
  {
   "cell_type": "code",
   "execution_count": 2,
   "metadata": {},
   "outputs": [],
   "source": [
    "# row_count = data.shape[0]\n",
    "# data = data.drop_duplicates()\n",
    "# print(\"Duplicates deleted: \" + str(row_count - data.shape[0]))"
   ]
  },
  {
   "cell_type": "markdown",
   "metadata": {},
   "source": [
    "Die Ausführung der obigen Methode ergibt >55k Duplikate. Auf Grund der angestrebten Datenauswertung mit k-Means ist dies jedoch nicht wünschenswert, da die Auswertung ohne diese Datensätze inkorrekt wäre."
   ]
  },
  {
   "cell_type": "markdown",
   "metadata": {},
   "source": [
    "\n",
    "***\n",
    "### 3. Data Inspection"
   ]
  },
  {
   "cell_type": "code",
   "execution_count": 3,
   "metadata": {
    "scrolled": false
   },
   "outputs": [
    {
     "data": {
      "image/png": "[encoded data removed]",
      "text/plain": [
       "<matplotlib.figure.Figure at 0x26cc291d898>"
      ]
     },
     "metadata": {},
     "output_type": "display_data"
    },
    {
     "data": {
      "image/png": "[encoded data removed]",
      "text/plain": [
       "<matplotlib.figure.Figure at 0x26cc2bad048>"
      ]
     },
     "metadata": {},
     "output_type": "display_data"
    },
    {
     "data": {
      "image/png": "[encoded data removed]",
      "text/plain": [
       "<matplotlib.figure.Figure at 0x26cc1526e80>"
      ]
     },
     "metadata": {},
     "output_type": "display_data"
    },
    {
     "data": {
      "image/png": "[encoded data removed]",
      "text/plain": [
       "<matplotlib.figure.Figure at 0x26cc17c4fd0>"
      ]
     },
     "metadata": {},
     "output_type": "display_data"
    },
    {
     "data": {
      "image/png": "[encoded data removed]",
      "text/plain": [
       "<matplotlib.figure.Figure at 0x26cc1788f28>"
      ]
     },
     "metadata": {},
     "output_type": "display_data"
    }
   ],
   "source": [
    "plt.boxplot(x = [data.Geschlecht], labels=[\"Geschlecht\"])\n",
    "plt.show()\n",
    "plt.boxplot(x = [data.Alter], labels=[\"Alter\"])\n",
    "plt.show()\n",
    "plt.boxplot(x = [data.Akademiker], labels=[\"Akademiker\"])\n",
    "plt.show()\n",
    "plt.boxplot(x = [data.Wohnsituation], labels=[\"Wohnsituation\"])\n",
    "plt.show()\n",
    "plt.boxplot(x = [data.Auto], labels=[\"Auto\"])\n",
    "plt.show()"
   ]
  },
  {
   "cell_type": "markdown",
   "metadata": {},
   "source": [
    "<br>\n",
    "Die obigen Plots geben bereits einen ersten Aufschluss darüber, wie die Datenwerte des Datasets grundlegend verteilt sind. So sind unter anderem folgende Aspekte ersichtlich:\n",
    "<br>\n",
    "- Innerhalb dieses Datasets hat es mehr männliche als weibliche Mitglieder / Members\n",
    "- Der Wertebereich des Alters der Mitglieder liegt zwischen 10 und 45 Jahren\n",
    "- Die Mehrheit der Mitglieder hat lediglich die obligatorische Schulbildung absolviert\n",
    "- Die Mehrheit der Mitglieder wohnt noch bei den Erziehungsberechtigten (Hotel Mama)\n",
    "- Bei der Wohnsituation gibt es ebenfalls Werte von 3 und 4, welche ungültig sind (Wertebereich liegt zwischen 0 und 2)\n",
    "    - Werden aus dem Set entfernt (siehe Kapitel _Data Cleaning_)\n",
    "- Die meisten Mitglieder besitzen kein Auto\n",
    "<br>"
   ]
  },
  {
   "cell_type": "markdown",
   "metadata": {},
   "source": [
    "\n",
    "***\n",
    "### 4. Data Cleaning\n",
    "<br>"
   ]
  },
  {
   "cell_type": "code",
   "execution_count": 4,
   "metadata": {
    "scrolled": true
   },
   "outputs": [
    {
     "name": "stdout",
     "output_type": "stream",
     "text": [
      "dropped: 965\n"
     ]
    }
   ],
   "source": [
    "# Drop Outliers in column \"Wohnsituation\"\n",
    "row_count = data.shape[0]\n",
    "data = data.drop(data[(data[\"Wohnsituation\"]>2)].index)\n",
    "print(\"dropped: \" + str(row_count - data.shape[0]))"
   ]
  },
  {
   "cell_type": "markdown",
   "metadata": {},
   "source": [
    "***\n",
    "\n",
    "### 5. Inspect correlations between the features\n",
    "<br>\n"
   ]
  },
  {
   "cell_type": "code",
   "execution_count": 5,
   "metadata": {},
   "outputs": [
    {
     "data": {
      "image/png": "[encoded data removed]",
      "text/plain": [
       "<matplotlib.figure.Figure at 0x26cbd920198>"
      ]
     },
     "metadata": {},
     "output_type": "display_data"
    }
   ],
   "source": [
    "plt.subplots(figsize=(7, 6))\n",
    "sns.heatmap(data.corr(), annot=True, cmap='RdYlGn_r', linewidths=0.5)\n",
    "plt.show()"
   ]
  },
  {
   "cell_type": "markdown",
   "metadata": {},
   "source": [
    "\n",
    "***\n",
    "\n",
    "### 6. Normalize data\n",
    "<br>"
   ]
  },
  {
   "cell_type": "code",
   "execution_count": 6,
   "metadata": {},
   "outputs": [],
   "source": [
    "from sklearn.cluster import KMeans\n",
    "from sklearn.preprocessing import MinMaxScaler\n",
    "\n",
    "max_age = data['Alter'].max()\n",
    "max_aka = data['Akademiker'].max()\n",
    "max_woh = data['Wohnsituation'].max()\n",
    "\n",
    "scaler = MinMaxScaler()\n",
    "data_norm = pd.DataFrame(scaler.fit_transform(data))"
   ]
  },
  {
   "cell_type": "markdown",
   "metadata": {},
   "source": [
    "\n",
    "***\n",
    "\n",
    "### 7. Generate clusters\n",
    "<br>"
   ]
  },
  {
   "cell_type": "code",
   "execution_count": 7,
   "metadata": {
    "scrolled": true
   },
   "outputs": [],
   "source": [
    "model = KMeans(n_clusters=5).fit(data_norm)"
   ]
  },
  {
   "cell_type": "markdown",
   "metadata": {},
   "source": [
    "### 8. Denormalize"
   ]
  },
  {
   "cell_type": "code",
   "execution_count": 8,
   "metadata": {},
   "outputs": [],
   "source": [
    "cluster_center = model.cluster_centers_.copy()\n",
    "labels = model.labels_\n",
    "\n",
    "cluster_center[:,1] = cluster_center[:,1]*max_age\n",
    "cluster_center[:,2] = cluster_center[:,2]*max_aka\n",
    "cluster_center[:,4] = cluster_center[:,4]*max_woh\n",
    "cluster_center[:,5] = cluster_center[:,5]*100"
   ]
  },
  {
   "cell_type": "markdown",
   "metadata": {},
   "source": [
    "### 9. Get Cluster"
   ]
  },
  {
   "cell_type": "code",
   "execution_count": 9,
   "metadata": {},
   "outputs": [
    {
     "data": {
      "image/png": "[encoded data removed]",
      "text/plain": [
       "<matplotlib.figure.Figure at 0x26cbd920278>"
      ]
     },
     "metadata": {},
     "output_type": "display_data"
    },
    {
     "data": {
      "text/html": [
       "<div>\n",
       "<style scoped>\n",
       "    .dataframe tbody tr th:only-of-type {\n",
       "        vertical-align: middle;\n",
       "    }\n",
       "\n",
       "    .dataframe tbody tr th {\n",
       "        vertical-align: top;\n",
       "    }\n",
       "\n",
       "    .dataframe thead th {\n",
       "        text-align: right;\n",
       "    }\n",
       "</style>\n",
       "<table border=\"1\" class=\"dataframe\">\n",
       "  <thead>\n",
       "    <tr style=\"text-align: right;\">\n",
       "      <th></th>\n",
       "      <th>Count</th>\n",
       "      <th>Color</th>\n",
       "    </tr>\n",
       "  </thead>\n",
       "  <tbody>\n",
       "    <tr>\n",
       "      <th>0</th>\n",
       "      <td>27984</td>\n",
       "      <td>red</td>\n",
       "    </tr>\n",
       "    <tr>\n",
       "      <th>1</th>\n",
       "      <td>1944</td>\n",
       "      <td>green</td>\n",
       "    </tr>\n",
       "    <tr>\n",
       "      <th>2</th>\n",
       "      <td>30113</td>\n",
       "      <td>blue</td>\n",
       "    </tr>\n",
       "    <tr>\n",
       "      <th>3</th>\n",
       "      <td>2423</td>\n",
       "      <td>yellow</td>\n",
       "    </tr>\n",
       "    <tr>\n",
       "      <th>4</th>\n",
       "      <td>2106</td>\n",
       "      <td>black</td>\n",
       "    </tr>\n",
       "  </tbody>\n",
       "</table>\n",
       "</div>"
      ],
      "text/plain": [
       "   Count   Color\n",
       "0  27984     red\n",
       "1   1944   green\n",
       "2  30113    blue\n",
       "3   2423  yellow\n",
       "4   2106   black"
      ]
     },
     "execution_count": 9,
     "metadata": {},
     "output_type": "execute_result"
    }
   ],
   "source": [
    "data['cluster'] = labels\n",
    "\n",
    "plt.subplot(221)\n",
    "plt.scatter(x=cluster_center[:,1], y=cluster_center[:,5], c=['red','green','blue','yellow','black'])\n",
    "plt.xlabel('Alter')\n",
    "plt.ylabel('Online-Affinität')\n",
    "\n",
    "plt.subplot(222)\n",
    "plt.scatter(x=cluster_center[:,0], y=cluster_center[:,2], c=['red','green','blue','yellow','black'])\n",
    "plt.xlabel('Geschlecht')\n",
    "plt.ylabel('Akademiker')\n",
    "\n",
    "plt.subplot(223)\n",
    "plt.scatter(x=cluster_center[:,3], y=cluster_center[:,4], c=['red','green','blue','yellow','black'])\n",
    "plt.xlabel('Auto')\n",
    "plt.ylabel('Wohnsituation')\n",
    "\n",
    "plt.show()\n",
    "\n",
    "cluster_list = []\n",
    "cluster_red = data[data['cluster'] == 0]\n",
    "cluster_green = data[data['cluster'] == 1]\n",
    "cluster_blue = data[data['cluster'] == 2]\n",
    "cluster_yellow = data[data['cluster'] == 3]\n",
    "cluster_black = data[data['cluster'] == 4]\n",
    "cluster_list.append(len(cluster_red))\n",
    "cluster_list.append(len(cluster_green))\n",
    "cluster_list.append(len(cluster_blue))\n",
    "cluster_list.append(len(cluster_yellow))\n",
    "cluster_list.append(len(cluster_black))\n",
    "noc_labels = ['Count']\n",
    "\n",
    "number_of_clusters = pd.DataFrame(cluster_list, columns=noc_labels)\n",
    "number_of_clusters['Color'] = ['red','green','blue','yellow','black']\n",
    "number_of_clusters"
   ]
  },
  {
   "cell_type": "markdown",
   "metadata": {},
   "source": [
    "Aus den obigen Plots lassen sich die fünf Zielgruppen wie folgt extrahieren:\n",
    "<br><br>\n",
    "- **Blau:**\n",
    "    - Tiefes Durchschnittsalter (17 j.), sehr tiefe Online-Affinität, männlich, obligatorische Schulbildung, kein Auto, wohnt zuhause\n",
    "- **Rot:**\n",
    "    - Tiefes Durchschnittsalter (17 j.), sehr tiefe Online-Affinität, weiblich, obligatorische Schulbildung, kein Auto, wohnt zuhause\n",
    "- **Grün:**\n",
    "    - Hohes Durchschnittsalter (21 j.), mittlere Online-Affinität, männlich, Uni / ETH, wenige Autos, wohnt entweder zuhause oder in einer WG\n",
    "- **Schwarz:**\n",
    "    - Tiefes Durchschnittsalter (18 j.), hohe Online-Affinität, Geschlecht verteilt, obligatorische Schulbildung, besitzt Auto, wohnt in einer WG\n",
    "- **Gelb:**\n",
    "    - Hohes Durchschnittsalter (20 j.), mittlere Online-Affinität, weiblich, Uni / ETH, wenige Auto, wohnt entweder zuhause oder in einer WG"
   ]
  },
  {
   "cell_type": "code",
   "execution_count": 10,
   "metadata": {},
   "outputs": [
    {
     "data": {
      "image/png": "[encoded data removed]",
      "text/plain": [
       "<matplotlib.figure.Figure at 0x26cc1ed96d8>"
      ]
     },
     "metadata": {},
     "output_type": "display_data"
    }
   ],
   "source": [
    "cluster_distortion = []\n",
    "\n",
    "for i in range(1, 20):\n",
    "    cluster_distortion.append(KMeans(n_clusters=i).fit(data).inertia_)\n",
    "\n",
    "plt.scatter(x = range(1, 20), y = cluster_distortion)\n",
    "plt.show()"
   ]
  },
  {
   "cell_type": "markdown",
   "metadata": {},
   "source": [
    "\n",
    "***\n",
    "\n",
    "### Conclusion\n",
    "<br>\n",
    "Für die Prozessierung des KMeans-Algorithmus eignet sich - gemäss Konsultation der Elbow-Methode - eine Anzahl von rund 6 - 7 Clustern optimal, wenn man einen guten Kompromiss zwischen minimaler Distortion und geringem Ressourcenverbrauch (auch hinsichtlich des Marketing-Budgets) erzielen will."
   ]
  },
  {
   "cell_type": "markdown",
   "metadata": {},
   "source": [
    "***\n",
    "\n",
    "# Exercise 3\n",
    "<br>\n",
    "\n",
    "## 3.1 Market Basket Analysis\n",
    "\n",
    "***\n",
    "\n",
    "### 1. Data Wrangling"
   ]
  },
  {
   "cell_type": "code",
   "execution_count": 11,
   "metadata": {},
   "outputs": [
    {
     "name": "stdout",
     "output_type": "stream",
     "text": [
      "Index(['date', 'transaction', 'name'], dtype='object')\n",
      "         date  transaction           name\n",
      "0  2000-01-01            1         yogurt\n",
      "1  2000-01-01            1           pork\n",
      "2  2000-01-01            1  sandwich bags\n",
      "3  2000-01-01            1     lunch meat\n",
      "4  2000-01-01            1   all- purpose\n",
      "22343\n"
     ]
    }
   ],
   "source": [
    "import pandas as pd\n",
    "import seaborn as sns\n",
    "import matplotlib.pyplot as plt\n",
    "import numpy as np\n",
    "\n",
    "data = pd.read_csv(r\"Shopping Transaction Data.csv\")\n",
    "print(data.columns)\n",
    "print(data.head())\n",
    "print(data.shape[0])"
   ]
  },
  {
   "cell_type": "code",
   "execution_count": 12,
   "metadata": {},
   "outputs": [
    {
     "data": {
      "text/html": [
       "<div>\n",
       "<style scoped>\n",
       "    .dataframe tbody tr th:only-of-type {\n",
       "        vertical-align: middle;\n",
       "    }\n",
       "\n",
       "    .dataframe tbody tr th {\n",
       "        vertical-align: top;\n",
       "    }\n",
       "\n",
       "    .dataframe thead th {\n",
       "        text-align: right;\n",
       "    }\n",
       "</style>\n",
       "<table border=\"1\" class=\"dataframe\">\n",
       "  <thead>\n",
       "    <tr style=\"text-align: right;\">\n",
       "      <th></th>\n",
       "      <th>transaction</th>\n",
       "      <th>date</th>\n",
       "      <th>products</th>\n",
       "      <th>count</th>\n",
       "    </tr>\n",
       "  </thead>\n",
       "  <tbody>\n",
       "    <tr>\n",
       "      <th>0</th>\n",
       "      <td>1</td>\n",
       "      <td>2000-01-01</td>\n",
       "      <td>yogurt, pork, sandwich bags, lunch meat, all- ...</td>\n",
       "      <td>20</td>\n",
       "    </tr>\n",
       "    <tr>\n",
       "      <th>1</th>\n",
       "      <td>2</td>\n",
       "      <td>2000-01-01</td>\n",
       "      <td>toilet paper, shampoo, hand soap, waffles, veg...</td>\n",
       "      <td>23</td>\n",
       "    </tr>\n",
       "    <tr>\n",
       "      <th>2</th>\n",
       "      <td>3</td>\n",
       "      <td>2000-01-02</td>\n",
       "      <td>soda, pork, soap, ice cream, toilet paper, din...</td>\n",
       "      <td>31</td>\n",
       "    </tr>\n",
       "    <tr>\n",
       "      <th>3</th>\n",
       "      <td>4</td>\n",
       "      <td>2000-01-02</td>\n",
       "      <td>cereals, juice, lunch meat, soda, toilet paper...</td>\n",
       "      <td>6</td>\n",
       "    </tr>\n",
       "    <tr>\n",
       "      <th>4</th>\n",
       "      <td>5</td>\n",
       "      <td>2000-01-02</td>\n",
       "      <td>sandwich loaves, pasta, tortillas, mixes, hand...</td>\n",
       "      <td>27</td>\n",
       "    </tr>\n",
       "    <tr>\n",
       "      <th>5</th>\n",
       "      <td>6</td>\n",
       "      <td>2000-01-02</td>\n",
       "      <td>laundry detergent, toilet paper, eggs, toilet ...</td>\n",
       "      <td>28</td>\n",
       "    </tr>\n",
       "    <tr>\n",
       "      <th>6</th>\n",
       "      <td>7</td>\n",
       "      <td>2000-01-03</td>\n",
       "      <td>individual meals, paper towels, tortillas, veg...</td>\n",
       "      <td>24</td>\n",
       "    </tr>\n",
       "    <tr>\n",
       "      <th>7</th>\n",
       "      <td>8</td>\n",
       "      <td>2000-01-04</td>\n",
       "      <td>ice cream, juice, paper towels, waffles, soda,...</td>\n",
       "      <td>9</td>\n",
       "    </tr>\n",
       "    <tr>\n",
       "      <th>8</th>\n",
       "      <td>9</td>\n",
       "      <td>2000-01-04</td>\n",
       "      <td>juice, poultry, coffee/tea, coffee/tea, dishwa...</td>\n",
       "      <td>5</td>\n",
       "    </tr>\n",
       "    <tr>\n",
       "      <th>9</th>\n",
       "      <td>10</td>\n",
       "      <td>2000-01-05</td>\n",
       "      <td>ketchup, coffee/tea, toilet paper, pork, flour...</td>\n",
       "      <td>34</td>\n",
       "    </tr>\n",
       "  </tbody>\n",
       "</table>\n",
       "</div>"
      ],
      "text/plain": [
       "   transaction        date                                           products  \\\n",
       "0            1  2000-01-01  yogurt, pork, sandwich bags, lunch meat, all- ...   \n",
       "1            2  2000-01-01  toilet paper, shampoo, hand soap, waffles, veg...   \n",
       "2            3  2000-01-02  soda, pork, soap, ice cream, toilet paper, din...   \n",
       "3            4  2000-01-02  cereals, juice, lunch meat, soda, toilet paper...   \n",
       "4            5  2000-01-02  sandwich loaves, pasta, tortillas, mixes, hand...   \n",
       "5            6  2000-01-02  laundry detergent, toilet paper, eggs, toilet ...   \n",
       "6            7  2000-01-03  individual meals, paper towels, tortillas, veg...   \n",
       "7            8  2000-01-04  ice cream, juice, paper towels, waffles, soda,...   \n",
       "8            9  2000-01-04  juice, poultry, coffee/tea, coffee/tea, dishwa...   \n",
       "9           10  2000-01-05  ketchup, coffee/tea, toilet paper, pork, flour...   \n",
       "\n",
       "   count  \n",
       "0     20  \n",
       "1     23  \n",
       "2     31  \n",
       "3      6  \n",
       "4     27  \n",
       "5     28  \n",
       "6     24  \n",
       "7      9  \n",
       "8      5  \n",
       "9     34  "
      ]
     },
     "execution_count": 12,
     "metadata": {},
     "output_type": "execute_result"
    }
   ],
   "source": [
    "def products(x):\n",
    "    x = pd.DataFrame(x)\n",
    "    return x.apply(\", \".join)\n",
    "\n",
    "data = data.groupby(['transaction', 'date'])['name'].agg([products, 'count']).reset_index()\n",
    "data.iloc[:10]"
   ]
  },
  {
   "cell_type": "markdown",
   "metadata": {},
   "source": [
    "### 2. Generate Histogram & Timeline"
   ]
  },
  {
   "cell_type": "markdown",
   "metadata": {},
   "source": [
    "#### Generate Histogram for _Number of Items per Transaction_"
   ]
  },
  {
   "cell_type": "code",
   "execution_count": 13,
   "metadata": {
    "scrolled": false
   },
   "outputs": [
    {
     "data": {
      "image/png": "[encoded data removed]",
      "text/plain": [
       "<matplotlib.figure.Figure at 0x26cc1f49d68>"
      ]
     },
     "metadata": {},
     "output_type": "display_data"
    },
    {
     "data": {
      "text/html": [
       "<div>\n",
       "<style scoped>\n",
       "    .dataframe tbody tr th:only-of-type {\n",
       "        vertical-align: middle;\n",
       "    }\n",
       "\n",
       "    .dataframe tbody tr th {\n",
       "        vertical-align: top;\n",
       "    }\n",
       "\n",
       "    .dataframe thead th {\n",
       "        text-align: right;\n",
       "    }\n",
       "</style>\n",
       "<table border=\"1\" class=\"dataframe\">\n",
       "  <thead>\n",
       "    <tr style=\"text-align: right;\">\n",
       "      <th></th>\n",
       "      <th>count</th>\n",
       "      <th>transactions</th>\n",
       "    </tr>\n",
       "  </thead>\n",
       "  <tbody>\n",
       "    <tr>\n",
       "      <th>0</th>\n",
       "      <td>5</td>\n",
       "      <td>36</td>\n",
       "    </tr>\n",
       "    <tr>\n",
       "      <th>1</th>\n",
       "      <td>6</td>\n",
       "      <td>19</td>\n",
       "    </tr>\n",
       "    <tr>\n",
       "      <th>2</th>\n",
       "      <td>7</td>\n",
       "      <td>35</td>\n",
       "    </tr>\n",
       "    <tr>\n",
       "      <th>3</th>\n",
       "      <td>8</td>\n",
       "      <td>38</td>\n",
       "    </tr>\n",
       "    <tr>\n",
       "      <th>4</th>\n",
       "      <td>9</td>\n",
       "      <td>49</td>\n",
       "    </tr>\n",
       "    <tr>\n",
       "      <th>5</th>\n",
       "      <td>10</td>\n",
       "      <td>30</td>\n",
       "    </tr>\n",
       "    <tr>\n",
       "      <th>6</th>\n",
       "      <td>11</td>\n",
       "      <td>42</td>\n",
       "    </tr>\n",
       "    <tr>\n",
       "      <th>7</th>\n",
       "      <td>12</td>\n",
       "      <td>45</td>\n",
       "    </tr>\n",
       "    <tr>\n",
       "      <th>8</th>\n",
       "      <td>13</td>\n",
       "      <td>48</td>\n",
       "    </tr>\n",
       "    <tr>\n",
       "      <th>9</th>\n",
       "      <td>14</td>\n",
       "      <td>31</td>\n",
       "    </tr>\n",
       "    <tr>\n",
       "      <th>10</th>\n",
       "      <td>15</td>\n",
       "      <td>34</td>\n",
       "    </tr>\n",
       "    <tr>\n",
       "      <th>11</th>\n",
       "      <td>16</td>\n",
       "      <td>41</td>\n",
       "    </tr>\n",
       "    <tr>\n",
       "      <th>12</th>\n",
       "      <td>17</td>\n",
       "      <td>31</td>\n",
       "    </tr>\n",
       "    <tr>\n",
       "      <th>13</th>\n",
       "      <td>18</td>\n",
       "      <td>44</td>\n",
       "    </tr>\n",
       "    <tr>\n",
       "      <th>14</th>\n",
       "      <td>19</td>\n",
       "      <td>35</td>\n",
       "    </tr>\n",
       "    <tr>\n",
       "      <th>15</th>\n",
       "      <td>20</td>\n",
       "      <td>43</td>\n",
       "    </tr>\n",
       "    <tr>\n",
       "      <th>16</th>\n",
       "      <td>21</td>\n",
       "      <td>39</td>\n",
       "    </tr>\n",
       "    <tr>\n",
       "      <th>17</th>\n",
       "      <td>22</td>\n",
       "      <td>36</td>\n",
       "    </tr>\n",
       "    <tr>\n",
       "      <th>18</th>\n",
       "      <td>23</td>\n",
       "      <td>56</td>\n",
       "    </tr>\n",
       "    <tr>\n",
       "      <th>19</th>\n",
       "      <td>24</td>\n",
       "      <td>33</td>\n",
       "    </tr>\n",
       "    <tr>\n",
       "      <th>20</th>\n",
       "      <td>25</td>\n",
       "      <td>34</td>\n",
       "    </tr>\n",
       "    <tr>\n",
       "      <th>21</th>\n",
       "      <td>26</td>\n",
       "      <td>45</td>\n",
       "    </tr>\n",
       "    <tr>\n",
       "      <th>22</th>\n",
       "      <td>27</td>\n",
       "      <td>40</td>\n",
       "    </tr>\n",
       "    <tr>\n",
       "      <th>23</th>\n",
       "      <td>28</td>\n",
       "      <td>40</td>\n",
       "    </tr>\n",
       "    <tr>\n",
       "      <th>24</th>\n",
       "      <td>29</td>\n",
       "      <td>25</td>\n",
       "    </tr>\n",
       "    <tr>\n",
       "      <th>25</th>\n",
       "      <td>30</td>\n",
       "      <td>42</td>\n",
       "    </tr>\n",
       "    <tr>\n",
       "      <th>26</th>\n",
       "      <td>31</td>\n",
       "      <td>42</td>\n",
       "    </tr>\n",
       "    <tr>\n",
       "      <th>27</th>\n",
       "      <td>32</td>\n",
       "      <td>36</td>\n",
       "    </tr>\n",
       "    <tr>\n",
       "      <th>28</th>\n",
       "      <td>33</td>\n",
       "      <td>41</td>\n",
       "    </tr>\n",
       "    <tr>\n",
       "      <th>29</th>\n",
       "      <td>34</td>\n",
       "      <td>29</td>\n",
       "    </tr>\n",
       "  </tbody>\n",
       "</table>\n",
       "</div>"
      ],
      "text/plain": [
       "    count  transactions\n",
       "0       5            36\n",
       "1       6            19\n",
       "2       7            35\n",
       "3       8            38\n",
       "4       9            49\n",
       "5      10            30\n",
       "6      11            42\n",
       "7      12            45\n",
       "8      13            48\n",
       "9      14            31\n",
       "10     15            34\n",
       "11     16            41\n",
       "12     17            31\n",
       "13     18            44\n",
       "14     19            35\n",
       "15     20            43\n",
       "16     21            39\n",
       "17     22            36\n",
       "18     23            56\n",
       "19     24            33\n",
       "20     25            34\n",
       "21     26            45\n",
       "22     27            40\n",
       "23     28            40\n",
       "24     29            25\n",
       "25     30            42\n",
       "26     31            42\n",
       "27     32            36\n",
       "28     33            41\n",
       "29     34            29"
      ]
     },
     "execution_count": 13,
     "metadata": {},
     "output_type": "execute_result"
    }
   ],
   "source": [
    "\n",
    "def transactions(x):\n",
    "    x = pd.DataFrame(x)\n",
    "    return x.count()\n",
    "\n",
    "data_tr = data.groupby(['count'])['transaction'].agg([transactions]).reset_index()\n",
    "\n",
    "data.plot(kind=\"hist\", x='transaction', y='count', edgecolor=\"black\", bins=100, legend=False)\n",
    "plt.xlabel('Number of Items')\n",
    "plt.ylabel('Number of Transactions')\n",
    "plt.title('Items per Transaction')\n",
    "plt.show()\n",
    "data_tr"
   ]
  },
  {
   "cell_type": "markdown",
   "metadata": {},
   "source": [
    "<br>\n",
    "Die Minimalanzahl gekaufter Items pro Transaktion liegt bei 5 (Items), die Maximalanzahl bei 34 (Items).\n",
    "<br>\n",
    "Die Verteilung der Transaktionen betr. der dabei akquirierten Items weist keine markanten Ausreisser auf. Die meisten Transaktionen beinhalten entweder 9 (`49`) bzw. 23 (`56`) Items.\n",
    "<br><br>"
   ]
  },
  {
   "cell_type": "markdown",
   "metadata": {},
   "source": [
    "#### Generate Timeline for _Transactions per Weekday_"
   ]
  },
  {
   "cell_type": "code",
   "execution_count": 14,
   "metadata": {},
   "outputs": [
    {
     "name": "stdout",
     "output_type": "stream",
     "text": [
      "Weekdays: 0 = Monday, 6 = Sunday\n",
      "\n",
      "\n",
      "   weekday  transaction\n",
      "0        0          147\n",
      "1        1          175\n",
      "2        2          158\n",
      "3        3          171\n",
      "4        4          168\n",
      "5        5          171\n",
      "6        6          149\n",
      "\n",
      "\n"
     ]
    },
    {
     "data": {
      "image/png": "[encoded data removed]",
      "text/plain": [
       "<matplotlib.figure.Figure at 0x26cc21c35f8>"
      ]
     },
     "metadata": {},
     "output_type": "display_data"
    },
    {
     "name": "stdout",
     "output_type": "stream",
     "text": [
      "\n",
      "\n",
      "\n",
      "   weekday  count\n",
      "0        0   2989\n",
      "1        1   3322\n",
      "2        2   3167\n",
      "3        3   3335\n",
      "4        4   3144\n",
      "5        5   3431\n",
      "6        6   2955\n",
      "\n",
      "\n"
     ]
    },
    {
     "data": {
      "image/png": "[encoded data removed]",
      "text/plain": [
       "<matplotlib.figure.Figure at 0x26cc18d2eb8>"
      ]
     },
     "metadata": {},
     "output_type": "display_data"
    }
   ],
   "source": [
    "import datetime\n",
    "\n",
    "def dow(str_date):\n",
    "    dt = str_date.split(\"-\")\n",
    "    date = datetime.date(int(dt[0]), int(dt[1]), int(dt[2]))\n",
    "    return date.weekday()\n",
    "\n",
    "data['weekday'] = data.apply(lambda row: dow(str(row['date'])), axis=1)\n",
    "dow_tr = data.groupby('weekday')['transaction'].agg('count').reset_index()\n",
    "dow_it = data.groupby('weekday')['count'].agg('sum').reset_index()\n",
    "\n",
    "print(\"Weekdays: 0 = Monday, 6 = Sunday\\n\\n\")\n",
    "print(dow_tr)\n",
    "print(\"\\n\")\n",
    "dow_tr.plot(kind=\"line\", x='weekday', y='transaction', legend=False)\n",
    "plt.xlabel('Weekday')\n",
    "plt.ylabel('Number of transactions')\n",
    "plt.title('Transactions per weekday')\n",
    "plt.show()\n",
    "\n",
    "print(\"\\n\\n\")\n",
    "print(dow_it)\n",
    "print(\"\\n\")\n",
    "dow_it.plot(kind=\"line\", x='weekday', y='count', legend=False)\n",
    "plt.xlabel('Weekday')\n",
    "plt.ylabel('Number of items')\n",
    "plt.title('Items per weekday')\n",
    "plt.show()"
   ]
  },
  {
   "cell_type": "markdown",
   "metadata": {},
   "source": [
    "<br>\n",
    "Die Analyse des obigen Plots zeigt auf, dass am Dienstag(`1`), Donnerstag(`3`) sowie am Samstag(`5`) die meisten Transaktionen getätigt werden.\n",
    "<br>\n",
    "Montag(`0`) und Sonntag(`6`) scheinen hingegen die inaktivsten Einkaufstage betr. der Anzahl getätigter Transaktionen zu sein.\n",
    "<br><br>\n",
    "Die Anzahl gekaufter Items scheint sich auf einem ausgeglichen Niveau zu befinden (keine extravaganten Ausreisser zu erkennen). Die meisten Items werden durchschnittlich am Samstag(`5`), die wenigsten am Sonntag(`6`) gekauft.\n",
    "<br><br>\n",
    "Somit ist der **Samstag** einer der höchstfrequentierten Wochentage (betr. Anzahl Transaktionen) mit den zusätzlich meistverkauften Items.\n",
    "<br><br>"
   ]
  },
  {
   "cell_type": "markdown",
   "metadata": {},
   "source": [
    "### 3. Generate association rules"
   ]
  },
  {
   "cell_type": "code",
   "execution_count": 15,
   "metadata": {},
   "outputs": [
    {
     "name": "stdout",
     "output_type": "stream",
     "text": [
      "Association rules: 1368\n",
      "\n",
      "\n",
      "Liste geordnet nach lift\n"
     ]
    },
    {
     "data": {
      "text/html": [
       "<div>\n",
       "<style scoped>\n",
       "    .dataframe tbody tr th:only-of-type {\n",
       "        vertical-align: middle;\n",
       "    }\n",
       "\n",
       "    .dataframe tbody tr th {\n",
       "        vertical-align: top;\n",
       "    }\n",
       "\n",
       "    .dataframe thead th {\n",
       "        text-align: right;\n",
       "    }\n",
       "</style>\n",
       "<table border=\"1\" class=\"dataframe\">\n",
       "  <thead>\n",
       "    <tr style=\"text-align: right;\">\n",
       "      <th></th>\n",
       "      <th>rule</th>\n",
       "      <th>base</th>\n",
       "      <th>add</th>\n",
       "      <th>support</th>\n",
       "      <th>confidence</th>\n",
       "      <th>lift</th>\n",
       "    </tr>\n",
       "  </thead>\n",
       "  <tbody>\n",
       "    <tr>\n",
       "      <th>2745</th>\n",
       "      <td>(vegetables, individual meals, sandwich loaves)</td>\n",
       "      <td>(vegetables, individual meals)</td>\n",
       "      <td>(sandwich loaves)</td>\n",
       "      <td>0.133450</td>\n",
       "      <td>0.467692</td>\n",
       "      <td>1.338446</td>\n",
       "    </tr>\n",
       "    <tr>\n",
       "      <th>2410</th>\n",
       "      <td>(soda, vegetables, eggs)</td>\n",
       "      <td>(soda, vegetables)</td>\n",
       "      <td>(eggs)</td>\n",
       "      <td>0.158033</td>\n",
       "      <td>0.517241</td>\n",
       "      <td>1.326887</td>\n",
       "    </tr>\n",
       "    <tr>\n",
       "      <th>2190</th>\n",
       "      <td>(vegetables, dinner rolls, eggs)</td>\n",
       "      <td>(vegetables, dinner rolls)</td>\n",
       "      <td>(eggs)</td>\n",
       "      <td>0.156277</td>\n",
       "      <td>0.507123</td>\n",
       "      <td>1.300929</td>\n",
       "    </tr>\n",
       "    <tr>\n",
       "      <th>2831</th>\n",
       "      <td>(juice, yogurt, vegetables)</td>\n",
       "      <td>(juice, vegetables)</td>\n",
       "      <td>(yogurt)</td>\n",
       "      <td>0.146620</td>\n",
       "      <td>0.498507</td>\n",
       "      <td>1.296347</td>\n",
       "    </tr>\n",
       "    <tr>\n",
       "      <th>2389</th>\n",
       "      <td>(vegetables, pasta, eggs)</td>\n",
       "      <td>(vegetables, pasta)</td>\n",
       "      <td>(eggs)</td>\n",
       "      <td>0.143986</td>\n",
       "      <td>0.503067</td>\n",
       "      <td>1.290527</td>\n",
       "    </tr>\n",
       "  </tbody>\n",
       "</table>\n",
       "</div>"
      ],
      "text/plain": [
       "                                                 rule  \\\n",
       "2745  (vegetables, individual meals, sandwich loaves)   \n",
       "2410                         (soda, vegetables, eggs)   \n",
       "2190                 (vegetables, dinner rolls, eggs)   \n",
       "2831                      (juice, yogurt, vegetables)   \n",
       "2389                        (vegetables, pasta, eggs)   \n",
       "\n",
       "                                base                add   support  confidence  \\\n",
       "2745  (vegetables, individual meals)  (sandwich loaves)  0.133450    0.467692   \n",
       "2410              (soda, vegetables)             (eggs)  0.158033    0.517241   \n",
       "2190      (vegetables, dinner rolls)             (eggs)  0.156277    0.507123   \n",
       "2831             (juice, vegetables)           (yogurt)  0.146620    0.498507   \n",
       "2389             (vegetables, pasta)             (eggs)  0.143986    0.503067   \n",
       "\n",
       "          lift  \n",
       "2745  1.338446  \n",
       "2410  1.326887  \n",
       "2190  1.300929  \n",
       "2831  1.296347  \n",
       "2389  1.290527  "
      ]
     },
     "execution_count": 15,
     "metadata": {},
     "output_type": "execute_result"
    }
   ],
   "source": [
    "from apyori import apriori\n",
    "\n",
    "transactions = []\n",
    "for index, row in data.iterrows():\n",
    "    products = str(row['products']).split(\", \")\n",
    "    transactions.append(products)\n",
    "\n",
    "rules = list(apriori(transactions))\n",
    "rules = [rule for rule in rules if len(rule.items) > 1]\n",
    "\n",
    "print(\"Association rules: \" + str(len(rules)))\n",
    "\n",
    "rule_ordered_statistics = []\n",
    "for rule in rules:\n",
    "    for ordered_statistic in rule.ordered_statistics:\n",
    "        rule_ordered_statistics.append([rule.items, ordered_statistic[0], ordered_statistic[1], rule.support, \n",
    "                                        ordered_statistic[2], ordered_statistic[3]])\n",
    "\n",
    "labels = ['rule', 'base', 'add', 'support', 'confidence', 'lift']\n",
    "data_rules = pd.DataFrame.from_records(rule_ordered_statistics, columns=labels)\n",
    "\n",
    "data_lift = data_rules.sort_values(by='lift', ascending=False)\n",
    "print(\"\\n\\nListe geordnet nach lift\")\n",
    "data_lift.iloc[:5]"
   ]
  },
  {
   "cell_type": "code",
   "execution_count": 16,
   "metadata": {
    "scrolled": true
   },
   "outputs": [
    {
     "name": "stdout",
     "output_type": "stream",
     "text": [
      "Liste geordnet nach Lift (Ascending)\n"
     ]
    },
    {
     "data": {
      "text/html": [
       "<div>\n",
       "<style scoped>\n",
       "    .dataframe tbody tr th:only-of-type {\n",
       "        vertical-align: middle;\n",
       "    }\n",
       "\n",
       "    .dataframe tbody tr th {\n",
       "        vertical-align: top;\n",
       "    }\n",
       "\n",
       "    .dataframe thead th {\n",
       "        text-align: right;\n",
       "    }\n",
       "</style>\n",
       "<table border=\"1\" class=\"dataframe\">\n",
       "  <thead>\n",
       "    <tr style=\"text-align: right;\">\n",
       "      <th></th>\n",
       "      <th>rule</th>\n",
       "      <th>base</th>\n",
       "      <th>add</th>\n",
       "      <th>support</th>\n",
       "      <th>confidence</th>\n",
       "      <th>lift</th>\n",
       "    </tr>\n",
       "  </thead>\n",
       "  <tbody>\n",
       "    <tr>\n",
       "      <th>217</th>\n",
       "      <td>(butter, beef)</td>\n",
       "      <td>(butter)</td>\n",
       "      <td>(beef)</td>\n",
       "      <td>0.128183</td>\n",
       "      <td>0.348449</td>\n",
       "      <td>0.929469</td>\n",
       "    </tr>\n",
       "    <tr>\n",
       "      <th>216</th>\n",
       "      <td>(butter, beef)</td>\n",
       "      <td>(beef)</td>\n",
       "      <td>(butter)</td>\n",
       "      <td>0.128183</td>\n",
       "      <td>0.341920</td>\n",
       "      <td>0.929469</td>\n",
       "    </tr>\n",
       "    <tr>\n",
       "      <th>1722</th>\n",
       "      <td>(butter, vegetables, beef)</td>\n",
       "      <td>(vegetables, beef)</td>\n",
       "      <td>(butter)</td>\n",
       "      <td>0.100966</td>\n",
       "      <td>0.346386</td>\n",
       "      <td>0.941607</td>\n",
       "    </tr>\n",
       "    <tr>\n",
       "      <th>1723</th>\n",
       "      <td>(butter, vegetables, beef)</td>\n",
       "      <td>(butter, vegetables)</td>\n",
       "      <td>(beef)</td>\n",
       "      <td>0.100966</td>\n",
       "      <td>0.356037</td>\n",
       "      <td>0.949710</td>\n",
       "    </tr>\n",
       "    <tr>\n",
       "      <th>1131</th>\n",
       "      <td>(waffles, milk)</td>\n",
       "      <td>(waffles)</td>\n",
       "      <td>(milk)</td>\n",
       "      <td>0.143108</td>\n",
       "      <td>0.363029</td>\n",
       "      <td>0.954942</td>\n",
       "    </tr>\n",
       "  </tbody>\n",
       "</table>\n",
       "</div>"
      ],
      "text/plain": [
       "                            rule                  base       add   support  \\\n",
       "217               (butter, beef)              (butter)    (beef)  0.128183   \n",
       "216               (butter, beef)                (beef)  (butter)  0.128183   \n",
       "1722  (butter, vegetables, beef)    (vegetables, beef)  (butter)  0.100966   \n",
       "1723  (butter, vegetables, beef)  (butter, vegetables)    (beef)  0.100966   \n",
       "1131             (waffles, milk)             (waffles)    (milk)  0.143108   \n",
       "\n",
       "      confidence      lift  \n",
       "217     0.348449  0.929469  \n",
       "216     0.341920  0.929469  \n",
       "1722    0.346386  0.941607  \n",
       "1723    0.356037  0.949710  \n",
       "1131    0.363029  0.954942  "
      ]
     },
     "execution_count": 16,
     "metadata": {},
     "output_type": "execute_result"
    }
   ],
   "source": [
    "print(\"Liste geordnet nach Lift (Ascending)\")\n",
    "data_lift = data_rules.sort_values(by='lift', ascending=True)\n",
    "data_lift.iloc[:5]"
   ]
  },
  {
   "cell_type": "markdown",
   "metadata": {},
   "source": [
    "1. Die Items vegetables, individual meals werden sehr oft zusammen mit sandwich loaves gekauft. Deshalb sollte man die Items sehr nahe beeinander haben oder das genaue Gegenteil.\n",
    "\n",
    "2. Logisch erscheint, dass vegetables & soda oft zusammen mit eggs gekaut werden. Dies kommt wohl daher, dass ein normaler Haushalt diese Items sehr oft konsumiert.\n",
    "\n",
    "3. Ebenfalls logisch erscheint, dass butter und beef nicht sehr oft zusammen gekauft werden."
   ]
  },
  {
   "cell_type": "markdown",
   "metadata": {},
   "source": [
    "### 4. Display rule set"
   ]
  },
  {
   "cell_type": "code",
   "execution_count": 17,
   "metadata": {
    "scrolled": true
   },
   "outputs": [
    {
     "data": {
      "image/png": "[encoded data removed]",
      "text/plain": [
       "<matplotlib.figure.Figure at 0x26cc198b2b0>"
      ]
     },
     "metadata": {},
     "output_type": "display_data"
    }
   ],
   "source": [
    "import matplotlib.cm as cm\n",
    "import matplotlib.colors as colors\n",
    "\n",
    "fig, ax = plt.subplots()\n",
    "data_rules.plot.scatter(x='support', y='confidence', c='lift', colormap='viridis', ax=ax)\n",
    "\n",
    "plt.xlabel('Support')\n",
    "plt.ylabel('Confidence')\n",
    "plt.title('Scatter Plot for Support vs. Confidence vs. Lift')\n",
    "plt.show()"
   ]
  },
  {
   "cell_type": "markdown",
   "metadata": {},
   "source": [
    "<br>\n",
    "***\n",
    "\n",
    "## 3.2 Analysis of User Contests\n",
    "<br><br>\n",
    "_The folks from STUcard.ch launched an online contest for market research. Participants\n",
    "were asked to **like (stored as 1)** or **dislike (stored as 0)** 18 images in random order. Unfortunately,\n",
    "we do not have access to these images – still we can come to quite interesting conclusions\n",
    "using the very same techniques as in market basket analysis. Can you find highly significant\n",
    "rules of the kind «People who liked image X and Y and … also liked image Z». Again, select\n",
    "the three best rules you can find and interpret them in terms of support, confidence and lift._\n",
    "<br><br>"
   ]
  },
  {
   "cell_type": "markdown",
   "metadata": {},
   "source": [
    "### 1. Import data"
   ]
  },
  {
   "cell_type": "code",
   "execution_count": 18,
   "metadata": {},
   "outputs": [
    {
     "name": "stdout",
     "output_type": "stream",
     "text": [
      "Index(['172', '175', '178', '181', '184', '187', '191', '196', '200', '203',\n",
      "       '206', '209', '212', '215', '218', '221', '224', '227'],\n",
      "      dtype='object')\n",
      "   172  175  178  181  184  187  191  196  200  203  206  209  212  215  218  \\\n",
      "0    1    1    1    0    0    1    1    1    1    0    0    1    1    0    0   \n",
      "1    1    1    1    1    0    1    1    1    1    0    0    1    0    1    0   \n",
      "2    0    0    0    0    0    0    0    0    0    0    0    0    0    0    0   \n",
      "3    0    1    0    1    1    0    0    0    0    0    1    0    1    0    0   \n",
      "4    0    0    0    0    0    0    0    0    0    0    0    0    0    0    0   \n",
      "\n",
      "   221  224  227  \n",
      "0    0    0    0  \n",
      "1    0    0    0  \n",
      "2    0    0    0  \n",
      "3    0    0    0  \n",
      "4    0    0    0  \n",
      "6122\n"
     ]
    }
   ],
   "source": [
    "import pandas as pd\n",
    "import seaborn as sns\n",
    "import matplotlib.pyplot as plt\n",
    "import numpy as np\n",
    "\n",
    "data = pd.read_excel(r\"STUcard Contest Data.xlsx\")\n",
    "print(data.columns)\n",
    "print(data.head())\n",
    "print(data.shape[0])"
   ]
  },
  {
   "cell_type": "markdown",
   "metadata": {},
   "source": [
    "<br>\n",
    "### 2. Generate Association Rules"
   ]
  },
  {
   "cell_type": "code",
   "execution_count": 19,
   "metadata": {},
   "outputs": [
    {
     "name": "stdout",
     "output_type": "stream",
     "text": [
      "Association rules: 544\n",
      "\n",
      "\n",
      "List ordered by Lift\n"
     ]
    },
    {
     "data": {
      "text/html": [
       "<div>\n",
       "<style scoped>\n",
       "    .dataframe tbody tr th:only-of-type {\n",
       "        vertical-align: middle;\n",
       "    }\n",
       "\n",
       "    .dataframe tbody tr th {\n",
       "        vertical-align: top;\n",
       "    }\n",
       "\n",
       "    .dataframe thead th {\n",
       "        text-align: right;\n",
       "    }\n",
       "</style>\n",
       "<table border=\"1\" class=\"dataframe\">\n",
       "  <thead>\n",
       "    <tr style=\"text-align: right;\">\n",
       "      <th></th>\n",
       "      <th>Rule</th>\n",
       "      <th>Base</th>\n",
       "      <th>Add</th>\n",
       "      <th>Support</th>\n",
       "      <th>Confidence</th>\n",
       "      <th>Lift</th>\n",
       "    </tr>\n",
       "  </thead>\n",
       "  <tbody>\n",
       "    <tr>\n",
       "      <th>1854</th>\n",
       "      <td>(224, 227, 196, 203, 221)</td>\n",
       "      <td>(196, 224, 227, 203)</td>\n",
       "      <td>(221)</td>\n",
       "      <td>0.100131</td>\n",
       "      <td>0.917665</td>\n",
       "      <td>4.785301</td>\n",
       "    </tr>\n",
       "    <tr>\n",
       "      <th>1666</th>\n",
       "      <td>(221, 224, 227, 203)</td>\n",
       "      <td>(224, 227, 203)</td>\n",
       "      <td>(221)</td>\n",
       "      <td>0.108788</td>\n",
       "      <td>0.891566</td>\n",
       "      <td>4.649207</td>\n",
       "    </tr>\n",
       "    <tr>\n",
       "      <th>1853</th>\n",
       "      <td>(224, 227, 196, 203, 221)</td>\n",
       "      <td>(221, 196, 227, 203)</td>\n",
       "      <td>(224)</td>\n",
       "      <td>0.100131</td>\n",
       "      <td>0.950388</td>\n",
       "      <td>4.636074</td>\n",
       "    </tr>\n",
       "    <tr>\n",
       "      <th>1586</th>\n",
       "      <td>(221, 196, 224, 227)</td>\n",
       "      <td>(196, 224, 227)</td>\n",
       "      <td>(221)</td>\n",
       "      <td>0.115158</td>\n",
       "      <td>0.885678</td>\n",
       "      <td>4.618504</td>\n",
       "    </tr>\n",
       "    <tr>\n",
       "      <th>1710</th>\n",
       "      <td>(221, 212, 224, 227)</td>\n",
       "      <td>(212, 224, 227)</td>\n",
       "      <td>(221)</td>\n",
       "      <td>0.100131</td>\n",
       "      <td>0.883285</td>\n",
       "      <td>4.606024</td>\n",
       "    </tr>\n",
       "  </tbody>\n",
       "</table>\n",
       "</div>"
      ],
      "text/plain": [
       "                           Rule                  Base    Add   Support  \\\n",
       "1854  (224, 227, 196, 203, 221)  (196, 224, 227, 203)  (221)  0.100131   \n",
       "1666       (221, 224, 227, 203)       (224, 227, 203)  (221)  0.108788   \n",
       "1853  (224, 227, 196, 203, 221)  (221, 196, 227, 203)  (224)  0.100131   \n",
       "1586       (221, 196, 224, 227)       (196, 224, 227)  (221)  0.115158   \n",
       "1710       (221, 212, 224, 227)       (212, 224, 227)  (221)  0.100131   \n",
       "\n",
       "      Confidence      Lift  \n",
       "1854    0.917665  4.785301  \n",
       "1666    0.891566  4.649207  \n",
       "1853    0.950388  4.636074  \n",
       "1586    0.885678  4.618504  \n",
       "1710    0.883285  4.606024  "
      ]
     },
     "execution_count": 19,
     "metadata": {},
     "output_type": "execute_result"
    }
   ],
   "source": [
    "from apyori import apriori\n",
    "\n",
    "contest_results = []\n",
    "columns = data.columns.tolist()\n",
    "results = []\n",
    "for index, row in data.iterrows():\n",
    "    results = [result for result in columns if row[result] == 1]\n",
    "    contest_results.append(results)\n",
    "\n",
    "rules = list(apriori(contest_results))\n",
    "rules = [rule for rule in rules if len(rule.items) > 2]\n",
    "\n",
    "print(\"Association rules: \" + str(len(rules)))\n",
    "\n",
    "rule_ordered_statistics = []\n",
    "for rule in rules:\n",
    "    for ordered_statistic in rule.ordered_statistics:\n",
    "        rule_ordered_statistics.append([rule.items, ordered_statistic[0], ordered_statistic[1], rule.support, \n",
    "                                        ordered_statistic[2], ordered_statistic[3]])\n",
    "\n",
    "labels = ['Rule', 'Base', 'Add', 'Support', 'Confidence', 'Lift']\n",
    "data_rules = pd.DataFrame.from_records(rule_ordered_statistics, columns=labels)\n",
    "\n",
    "data_lift = data_rules.sort_values(by='Lift', ascending=False)\n",
    "print(\"\\n\\nList ordered by Lift\")\n",
    "data_lift.iloc[:5]"
   ]
  },
  {
   "cell_type": "code",
   "execution_count": 20,
   "metadata": {},
   "outputs": [
    {
     "name": "stdout",
     "output_type": "stream",
     "text": [
      "List ordered by Lift (Ascending)\n"
     ]
    },
    {
     "data": {
      "text/html": [
       "<div>\n",
       "<style scoped>\n",
       "    .dataframe tbody tr th:only-of-type {\n",
       "        vertical-align: middle;\n",
       "    }\n",
       "\n",
       "    .dataframe tbody tr th {\n",
       "        vertical-align: top;\n",
       "    }\n",
       "\n",
       "    .dataframe thead th {\n",
       "        text-align: right;\n",
       "    }\n",
       "</style>\n",
       "<table border=\"1\" class=\"dataframe\">\n",
       "  <thead>\n",
       "    <tr style=\"text-align: right;\">\n",
       "      <th></th>\n",
       "      <th>Rule</th>\n",
       "      <th>Base</th>\n",
       "      <th>Add</th>\n",
       "      <th>Support</th>\n",
       "      <th>Confidence</th>\n",
       "      <th>Lift</th>\n",
       "    </tr>\n",
       "  </thead>\n",
       "  <tbody>\n",
       "    <tr>\n",
       "      <th>90</th>\n",
       "      <td>(206, 172, 184)</td>\n",
       "      <td>(172, 184)</td>\n",
       "      <td>(206)</td>\n",
       "      <td>0.111892</td>\n",
       "      <td>0.256843</td>\n",
       "      <td>0.836379</td>\n",
       "    </tr>\n",
       "    <tr>\n",
       "      <th>140</th>\n",
       "      <td>(206, 172, 209)</td>\n",
       "      <td>(206, 209)</td>\n",
       "      <td>(172)</td>\n",
       "      <td>0.120549</td>\n",
       "      <td>0.502383</td>\n",
       "      <td>0.861267</td>\n",
       "    </tr>\n",
       "    <tr>\n",
       "      <th>69</th>\n",
       "      <td>(206, 172, 181)</td>\n",
       "      <td>(172, 181)</td>\n",
       "      <td>(206)</td>\n",
       "      <td>0.106828</td>\n",
       "      <td>0.270471</td>\n",
       "      <td>0.880759</td>\n",
       "    </tr>\n",
       "    <tr>\n",
       "      <th>143</th>\n",
       "      <td>(206, 172, 215)</td>\n",
       "      <td>(206, 215)</td>\n",
       "      <td>(172)</td>\n",
       "      <td>0.112218</td>\n",
       "      <td>0.516930</td>\n",
       "      <td>0.886207</td>\n",
       "    </tr>\n",
       "    <tr>\n",
       "      <th>111</th>\n",
       "      <td>(187, 206, 172)</td>\n",
       "      <td>(187, 172)</td>\n",
       "      <td>(206)</td>\n",
       "      <td>0.127573</td>\n",
       "      <td>0.274903</td>\n",
       "      <td>0.895190</td>\n",
       "    </tr>\n",
       "  </tbody>\n",
       "</table>\n",
       "</div>"
      ],
      "text/plain": [
       "                Rule        Base    Add   Support  Confidence      Lift\n",
       "90   (206, 172, 184)  (172, 184)  (206)  0.111892    0.256843  0.836379\n",
       "140  (206, 172, 209)  (206, 209)  (172)  0.120549    0.502383  0.861267\n",
       "69   (206, 172, 181)  (172, 181)  (206)  0.106828    0.270471  0.880759\n",
       "143  (206, 172, 215)  (206, 215)  (172)  0.112218    0.516930  0.886207\n",
       "111  (187, 206, 172)  (187, 172)  (206)  0.127573    0.274903  0.895190"
      ]
     },
     "execution_count": 20,
     "metadata": {},
     "output_type": "execute_result"
    }
   ],
   "source": [
    "data_lift = data_rules.sort_values(by='Lift', ascending=True)\n",
    "print(\"List ordered by Lift (Ascending)\")\n",
    "data_lift.iloc[:5]"
   ]
  },
  {
   "cell_type": "code",
   "execution_count": 21,
   "metadata": {},
   "outputs": [
    {
     "name": "stdout",
     "output_type": "stream",
     "text": [
      "\n",
      "\n",
      "List ordered by Support\n"
     ]
    },
    {
     "data": {
      "text/html": [
       "<div>\n",
       "<style scoped>\n",
       "    .dataframe tbody tr th:only-of-type {\n",
       "        vertical-align: middle;\n",
       "    }\n",
       "\n",
       "    .dataframe tbody tr th {\n",
       "        vertical-align: top;\n",
       "    }\n",
       "\n",
       "    .dataframe thead th {\n",
       "        text-align: right;\n",
       "    }\n",
       "</style>\n",
       "<table border=\"1\" class=\"dataframe\">\n",
       "  <thead>\n",
       "    <tr style=\"text-align: right;\">\n",
       "      <th></th>\n",
       "      <th>Rule</th>\n",
       "      <th>Base</th>\n",
       "      <th>Add</th>\n",
       "      <th>Support</th>\n",
       "      <th>Confidence</th>\n",
       "      <th>Lift</th>\n",
       "    </tr>\n",
       "  </thead>\n",
       "  <tbody>\n",
       "    <tr>\n",
       "      <th>81</th>\n",
       "      <td>(187, 172, 184)</td>\n",
       "      <td>(172, 184)</td>\n",
       "      <td>(187)</td>\n",
       "      <td>0.363280</td>\n",
       "      <td>0.833896</td>\n",
       "      <td>1.401733</td>\n",
       "    </tr>\n",
       "    <tr>\n",
       "      <th>82</th>\n",
       "      <td>(187, 172, 184)</td>\n",
       "      <td>(187, 172)</td>\n",
       "      <td>(184)</td>\n",
       "      <td>0.363280</td>\n",
       "      <td>0.782823</td>\n",
       "      <td>1.334199</td>\n",
       "    </tr>\n",
       "    <tr>\n",
       "      <th>83</th>\n",
       "      <td>(187, 172, 184)</td>\n",
       "      <td>(187, 184)</td>\n",
       "      <td>(172)</td>\n",
       "      <td>0.363280</td>\n",
       "      <td>0.827073</td>\n",
       "      <td>1.417906</td>\n",
       "    </tr>\n",
       "    <tr>\n",
       "      <th>60</th>\n",
       "      <td>(187, 172, 181)</td>\n",
       "      <td>(172, 181)</td>\n",
       "      <td>(187)</td>\n",
       "      <td>0.334041</td>\n",
       "      <td>0.845740</td>\n",
       "      <td>1.421643</td>\n",
       "    </tr>\n",
       "    <tr>\n",
       "      <th>61</th>\n",
       "      <td>(187, 172, 181)</td>\n",
       "      <td>(187, 172)</td>\n",
       "      <td>(181)</td>\n",
       "      <td>0.334041</td>\n",
       "      <td>0.719817</td>\n",
       "      <td>1.472834</td>\n",
       "    </tr>\n",
       "  </tbody>\n",
       "</table>\n",
       "</div>"
      ],
      "text/plain": [
       "               Rule        Base    Add   Support  Confidence      Lift\n",
       "81  (187, 172, 184)  (172, 184)  (187)  0.363280    0.833896  1.401733\n",
       "82  (187, 172, 184)  (187, 172)  (184)  0.363280    0.782823  1.334199\n",
       "83  (187, 172, 184)  (187, 184)  (172)  0.363280    0.827073  1.417906\n",
       "60  (187, 172, 181)  (172, 181)  (187)  0.334041    0.845740  1.421643\n",
       "61  (187, 172, 181)  (187, 172)  (181)  0.334041    0.719817  1.472834"
      ]
     },
     "execution_count": 21,
     "metadata": {},
     "output_type": "execute_result"
    }
   ],
   "source": [
    "data_support = data_rules.sort_values(by='Support', ascending=False)\n",
    "print(\"\\n\\nList ordered by Support\")\n",
    "data_support.iloc[:5]"
   ]
  },
  {
   "cell_type": "markdown",
   "metadata": {},
   "source": [
    "1. People who liked images 227, 203, 224 also liked image 221\n",
    "2. People who liked images 184, 172 mostly dislike image 206\n",
    "3. Over 1/3 of the participants liked the images 172, 184 and 187"
   ]
  }
 ],
 "metadata": {
  "kernelspec": {
   "display_name": "Python 3",
   "language": "python",
   "name": "python3"
  },
  "language_info": {
   "codemirror_mode": {
    "name": "ipython",
    "version": 3
   },
   "file_extension": ".py",
   "mimetype": "text/x-python",
   "name": "python",
   "nbconvert_exporter": "python",
   "pygments_lexer": "ipython3",
   "version": "3.6.4"
  }
 },
 "nbformat": 4,
 "nbformat_minor": 2
}
