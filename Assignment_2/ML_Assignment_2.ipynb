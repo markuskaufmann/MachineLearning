{
 "cells": [
  {
   "cell_type": "markdown",
   "metadata": {},
   "source": [
    "# Assignment 2 - k-Nearest Neighbors"
   ]
  },
  {
   "cell_type": "markdown",
   "metadata": {},
   "source": [
    "***\n",
    "\n",
    "## Team\n",
    "- Kevin Huber\n",
    "- Markus Kaufmann\n",
    "- Luca Rava\n",
    "\n",
    "***"
   ]
  },
  {
   "cell_type": "markdown",
   "metadata": {},
   "source": [
    "\n",
    "## Task\n",
    "\n",
    "<br>\n",
    "*AutoScout24 provided us with a dump of their productive database. You are assigned to train\n",
    "a prediction model for the selling price of second-hand cars, which in the future shall enable\n",
    "the platform to automatically suggest an adequate selling price whenever a customer uploads\n",
    "a new sale advertisement.*\n",
    "<br><br>\n",
    "***\n"
   ]
  },
  {
   "cell_type": "markdown",
   "metadata": {},
   "source": [
    "### 1. Import & inspect the data; transform categorical attributes"
   ]
  },
  {
   "cell_type": "code",
   "execution_count": 1,
   "metadata": {},
   "outputs": [
    {
     "name": "stdout",
     "output_type": "stream",
     "text": [
      "Index(['Name', 'Price', 'Mileage', 'Registration', 'Color', 'Doors',\n",
      "       'Horsepower', 'EngineSize', 'Seats', 'Cylinders', 'Gears', 'Year'],\n",
      "      dtype='object')\n",
      "                       Name   Price  Mileage Registration      Color  Doors  \\\n",
      "0      MERCEDES-BENZ SL 500   44800    27600   1996-10-01  anthrazit      2   \n",
      "1                 BMW 740iL   22800    18300   1999-05-01  anthrazit      4   \n",
      "2  AUDI A8 4.2 FSI quattro   183710      650   2008-08-01  anthrazit      5   \n",
      "3    OPEL Zafira 2.2i Cosmo   19900    32000   2006-02-01  anthrazit      5   \n",
      "4        VOLVO V70 D5 AWD A   18999   118000   2003-02-01  anthrazit      5   \n",
      "\n",
      "   Horsepower  EngineSize  Seats  Cylinders  Gears  Year  \n",
      "0         320        4973      2          8      5  1996  \n",
      "1         286        4398      5          8      5  1999  \n",
      "2         350        4172      5          8      6  2008  \n",
      "3         150        2198      7          4      6  2006  \n",
      "4         163        2401      5          5      5  2003  \n"
     ]
    }
   ],
   "source": [
    "import pandas as pd\n",
    "import seaborn as sns\n",
    "import matplotlib.pyplot as plt\n",
    "\n",
    "data = pd.read_csv(r\"AutoScout24 Dataset.csv\")\n",
    "print(data.columns)\n",
    "print(data.head())"
   ]
  },
  {
   "cell_type": "markdown",
   "metadata": {},
   "source": [
    "\n",
    "***\n",
    "\n",
    "### Inspection\n",
    "<br>\n",
    "- Die Spalte mit den Namen der Autos (_`Name`_) ist bezüglich der späteren Prozessierung irrelevant. Column kann also gedroppt werden.\n",
    "- Die Daten können allgemeine Fehler enthalten, welche auf Verständnisdiskrepanzen sowie Eingabefehler zurückzuführen sind. So zum Beispiel die Anzahl Türen (_`Doors`_). Es ist möglich, dass nicht jeder Benutzer, welcher ein Auto inseriert, die korrekte Anzahl Türen gemäss Hersteller-Datenblatt angibt (z.B. Verständniskonflikt 2 Türen <-> 3 Türen).\n",
    "\n",
    "<br>\n",
    "Nachfolgend wird das Dataset auf die Plausibilität der Inhalte der einzelnen Attribute (Columns) untersucht.\n",
    "<br><br>\n",
    "\n",
    "#### Price\n",
    "\n",
    "- Die Preisrange liegt zwischen `CHF 300.- < x < CHF 698'000.-`, was bezüglich der Mileage, dem Jahrgang und dem Modell der einzelnen Autos durchaus Sinn machen kann. Besonders beachtet wurden hierbei diejenigen Autos, welche den niedrigsten (CHF 300.-) bzw. den höchsten Preis (CHF 698'000.-) aufweisen.\n",
    "- Insgesamt 166 Fahrzeuge liegen preislich unter CHF 1'000.-\n",
    "    - Klingt ziemlich suspekt, kann aber gut möglich sein, wenn man die Wertebereiche der Kilometerstände (`70'000 km < x < 371'000 km`) sowie der Jahrgänge (`1992 < x < 2006`) miteinbezieht\n",
    "<br><br>\n",
    "\n",
    "#### Mileage\n",
    "\n",
    "- Wertebereich der Kilometerstände: `0 km < x < 1'530'000 km`\n",
    "- Besonders auffällig: Es gibt 3 Autos, die einen sehr hohen Kilometerstand haben:\n",
    "<br><br>\n",
    "    - TOYOTA Celica 1.8 VVT-i / 2000 / `623'750 km`\n",
    "        - Wert ist sehr hoch, jedoch nicht unmöglich\n",
    "        - Der Preis (`CHF 7'900.-`) ist für den Kilometerstand ziemlich hoch angesetzt, doch das kann der Besitzer des Autos selbst festlegen\n",
    "        - Datensatz könnte die spätere Prediction verfälschen (Verhältnis Jahr / Mileage / Preis)\n",
    "    <br><br>\n",
    "    - SUBARU Legacy 2.5 Outback A / 1997 / `999'999 km`\n",
    "        - Wert scheint sehr suspekt\n",
    "        - Ein Besuch auf _autoscout24.ch_ zeigt, dass es einige Benutzer gibt, welche sogar Autos mit `999'999'999 km` inseriert haben. Was genau dahinter steckt, ist nicht klar (evtl. Kilometerstand nicht mehr ablesbar)\n",
    "        - Wert ist sehr unwahrscheinlich und sollte daher für die weitere Prozessierung nicht beachtet werden\n",
    "    <br><br>\n",
    "    - HONDA FR-V 1.7 Comfort / 2006 / `1'530'000 km`\n",
    "        - Wert ist sehr hoch, jedoch nicht unmöglich\n",
    "        - Der Preis (`CHF 7'990.-`) ist für den Kilometerstand äusserst hoch angesetzt, doch das kann der Besitzer des Autos selbst festlegen\n",
    "        - Datensatz könnte die spätere Prediction verfälschen (Verhältnis Jahr / Mileage / Preis)\n",
    "    <br><br>\n",
    "\n",
    "#### Registration\n",
    "\n",
    "- Wertebereich der Registrationsdaten: `01.01.1900 < x < 01.01.2014`\n",
    "- Besonders auffällig: Es gibt 1 Auto, welches definitiv ein falsches Registrationsdatum eingetragen hat:\n",
    "<br><br>\n",
    "    - HYUNDAI i30 1.6 GDI STYLE / `01.01.1900`\n",
    "        - Falsche Datenangabe des Registrationsdatums\n",
    "        - Die typgleichen / ähnlichen Modelle sind alle in den Jahren 2012 & 2013\n",
    "        - Datensatz sollte entfernt werden, da dieser die spätere Prediction verfälschen kann\n",
    "    <br><br>\n",
    "\n",
    "#### Color\n",
    "\n",
    "- Bei den Farben der Autos scheint es keine ungültigen oder unplausiblen Werte zu geben\n",
    "<br><br>\n",
    "\n",
    "#### Doors\n",
    "\n",
    "- Wertebereich der Anzahl Türen: `2 < x < 6`\n",
    "- Wie bereits erwähnt, ist es möglich, dass nicht jeder Benutzer, welcher ein Auto inseriert, die korrekte Anzahl Türen gemäss Hersteller-Datenblatt angibt (z.B. Verständniskonflikt 2 Türen <-> 3 Türen).\n",
    "- Es ist somit gut möglich, dass es z.B. Datensätze gibt, welche 2 Türen angegeben haben, aber nach Herstellerangabe über 3 Türen verfügen. Dies bei jedem Datensatz zu überprüfen wäre jedoch ein zu hoher Aufwand\n",
    "- Besonders auffällig sind die Autos mit 6 Türen:\n",
    "<br><br>\n",
    "    - BMW 120i / 2005 / 5 Sitze\n",
    "        - Hierbei handelt es sich wahrscheinlich um eine Falschangabe\n",
    "        - Laut Hersteller werden die Modelle der 1er-Serie von BMW als 3- oder 5-Türer implementiert\n",
    "        - Somit handelt es sich ziemlich sicher um einen 5-Türer\n",
    "        - Verwandte / gleiche Modelle aus dem selben Jahr werden mit 3 oder 5 Türen angegeben (siehe Dataset)\n",
    "        <br><br>\n",
    "    - MERCEDES-BENZ Vito 116 CDI EL A / 2011 / 8 Sitze\n",
    "        - Hierbei handelt es sich wahrscheinlich um eine Falschangabe\n",
    "        - Es handelt sich ziemlich sicher um einen 5-Türer\n",
    "        - Verwandte / gleiche Modelle aus dem selben Jahr werden mit 5 Türen angegeben (siehe Dataset)\n",
    "    <br><br>\n",
    "\n",
    "#### Horsepower\n",
    "\n",
    "- Wertebereich der Fahrzeugleistung: `40 PS < x < 777 PS`\n",
    "- Die einzelnen Werte scheinen plausibel\n",
    "- Es gibt keine Ausreisser\n",
    "<br><br>\n",
    "\n",
    "#### EngineSize\n",
    "\n",
    "- Wertebereich der Hubraums: `599 ccm (0.6 l) < x < 8285 ccm (8.3 l)`\n",
    "- Die einzelnen Werte scheinen plausibel\n",
    "- Es gibt keine Ausreisser\n",
    "<br><br>\n",
    "\n",
    "#### Seats\n",
    "\n",
    "- Wertebereich der Anzahl Sitze: `2 < x < 14`\n",
    "- Alle Werte <= 9 scheinen plausibel zu sein\n",
    "- Besonders auffällig sind die beiden Autos mit 11 resp. 14 Sitzen:\n",
    "<br><br>\n",
    "    - VW T4 Caravelle 2.5TDI ABS / 2001 / 4 Türen / `11 Sitze`\n",
    "        - Laut https://de.wikipedia.org/wiki/VW_T4 sind maximal 9 Sitze realisierbar\n",
    "        - Falschangabe\n",
    "    <br><br>\n",
    "    - MERCEDES-BENZ 316 CDI / 2012 / 4 Türen / `14 Sitze`\n",
    "        - Dieser Wert ist nicht unwahrscheinlich, da gemäss https://de.wikipedia.org/wiki/Mercedes-Benz_Sprinter je nach Variante bis zu 30 Sitzplätze integriert werden können\n",
    "<br><br>\n",
    "\n",
    "\n",
    "#### Cylinders\n",
    "\n",
    "- Wertebereich der Anzahl Zylinder: `2 < x < 12`\n",
    "- Alle Werte scheinen plausibel zu sein\n",
    "- Es gibt in der Tat Motoren mit 2, 3 oder 5 Zylindern (nebst den bekannten mit 4, 6, 8, 10 oder 12 Zylindern)\n",
    "- Es gibt keine Ausreisser\n",
    "<br><br>\n",
    "\n",
    "\n",
    "#### Gears\n",
    "\n",
    "- Wertebereich der Anzahl Gänge: `1 < x < 8`\n",
    "- Alle Werte scheinen plausibel zu sein\n",
    "- Besonders auffällig sind zwei Autos:\n",
    "<br><br>\n",
    "    - FISKER Karma EcoSport / 2012 / 4 Türen / `1 Gang`\n",
    "        - Laut https://de.wikipedia.org/wiki/Fisker_Karma handelt es sich bei diesem Auto um einen Plug-in-Hybrid, welcher 2 Elektromotoren sowie einen Verbrennungsmotor besitzt. Der Letztere nimmt dabei die Funktion einer Energiequelle für den Generator an, welcher den Elektromotoren additionale Energie (Strom) zur Verfügung stellt. Ein 1-Gang-Getriebe macht bei elektrisch angetriebenen Autos durchaus Sinn (vgl. mit Tesla).\n",
    "        <br><br>\n",
    "    - DAIHATSU Cuore Mio / 1997 / 3 Türen / `3 Gänge`\n",
    "        - Laut https://de.wikipedia.org/wiki/Daihatsu_Cuore#Mira_/_Cuore_L501_(1995%E2%80%932000) ist dieses Auto mit einem 3-Stufen-Automatikgetriebe ausstattbar.\n",
    "<br><br>\n",
    "\n",
    "\n",
    "#### Year\n",
    "\n",
    "- Wertebereich des Jahrgangs: `1900 < x < 2014`\n",
    "- Jahrgang entspricht dem selben Jahr wie innerhalb des Registrationsdatums angegeben (siehe Spalte _Registration_)\n",
    "- Die Spalte _Registration_ kann somit gedroppt werden (Grund: Datenredundanz)\n",
    "<br><br>"
   ]
  },
  {
   "cell_type": "markdown",
   "metadata": {},
   "source": [
    "### Check for duplicates"
   ]
  },
  {
   "cell_type": "code",
   "execution_count": 2,
   "metadata": {},
   "outputs": [
    {
     "name": "stdout",
     "output_type": "stream",
     "text": [
      "Duplicates deleted: 470\n"
     ]
    }
   ],
   "source": [
    "row_count = data.shape[0]\n",
    "data = data.drop_duplicates()\n",
    "print(\"Duplicates deleted: \" + str(row_count - data.shape[0]))"
   ]
  },
  {
   "cell_type": "markdown",
   "metadata": {},
   "source": [
    "<br>\n",
    "### Data Cleaning - Remove unlikely data\n",
    "<br>\n",
    "Auf Grund der initial getätigten Dateninspektion (siehe Kapitel _Inspection_) werden diejenigen Records aus dem Dataset entfernt, welche die spätere Prozessierung mittels _k-NN regression model_ negativ beeinflussen bzw. verfälschen könnten.\n",
    "<br>\n",
    "Zudem können die beiden Columns `Name` und `Registration` entfernt werden, da sie entweder irrelevante Daten (Namen der Fahrzeuge) oder Datenredundanzen (Registrationsdatum der Fahrzeuge <-> Spalte `Year`) enthalten.\n",
    "<br><br>"
   ]
  },
  {
   "cell_type": "code",
   "execution_count": 3,
   "metadata": {},
   "outputs": [],
   "source": [
    "# see chapter \"Inspection\", subchapter \"Mileage\"\n",
    "data = data.drop(data[((data[\"Name\"]==\"TOYOTA Celica 1.8 VVT-i\") & (data[\"Mileage\"]==623750))].index)\n",
    "data = data.drop(data[((data[\"Name\"]==\"SUBARU Legacy 2.5 Outback A\") & (data[\"Mileage\"]==999999))].index)\n",
    "data = data.drop(data[((data[\"Name\"]==\"HONDA FR-V 1.7 Comfort\") & (data[\"Mileage\"]==1530000))].index)\n",
    "\n",
    "# see chapter \"Inspection\", subchapter \"Registration\"\n",
    "data = data.drop(data[((data[\"Name\"]==\"HYUNDAI i30 1.6 GDI STYLE\") & (data[\"Registration\"]==\"1900-01-01\"))].index)\n",
    "\n",
    "# drop irrelevant / redundant columns\n",
    "data = data.drop(columns=['Name', 'Registration'])"
   ]
  },
  {
   "cell_type": "markdown",
   "metadata": {},
   "source": [
    "<br>\n",
    "### Transform categorical attributes"
   ]
  },
  {
   "cell_type": "code",
   "execution_count": 4,
   "metadata": {
    "scrolled": true
   },
   "outputs": [
    {
     "name": "stdout",
     "output_type": "stream",
     "text": [
      "Index(['Price', 'Mileage', 'Doors', 'Horsepower', 'EngineSize', 'Seats',\n",
      "       'Cylinders', 'Gears', 'Year', 'Color_anthrazit', 'Color_beige',\n",
      "       'Color_blau', 'Color_bordeaux', 'Color_braun', 'Color_gelb',\n",
      "       'Color_gold', 'Color_grau', 'Color_grün', 'Color_orange', 'Color_pink',\n",
      "       'Color_rot', 'Color_schwarz', 'Color_silber', 'Color_türkis',\n",
      "       'Color_violett', 'Color_weiss'],\n",
      "      dtype='object')\n"
     ]
    }
   ],
   "source": [
    "data = pd.get_dummies(data)\n",
    "print(data.columns)"
   ]
  },
  {
   "cell_type": "markdown",
   "metadata": {},
   "source": [
    "\n",
    "***\n",
    "\n",
    "### 2. Search for anomalies and suggest appropriate measures"
   ]
  },
  {
   "cell_type": "markdown",
   "metadata": {},
   "source": [
    "Etwaige Anomalien wurden bereits bei der Analyse der einzelnen Attribute (innerhalb des Kapitels _Inspection_) akzentuiert und bereinigt (Kapitel _Data Cleaning_).\n"
   ]
  },
  {
   "cell_type": "markdown",
   "metadata": {},
   "source": [
    "***\n",
    "\n",
    "### 3. Inspect correlations between the price and other attributes\n",
    "<br>\n"
   ]
  },
  {
   "cell_type": "code",
   "execution_count": 5,
   "metadata": {},
   "outputs": [
    {
     "data": {
      "image/png": "[encoded data removed]",
      "text/plain": [
       "<matplotlib.figure.Figure at 0x20abf3385f8>"
      ]
     },
     "metadata": {},
     "output_type": "display_data"
    }
   ],
   "source": [
    "data = data.loc[:,['Price', 'Mileage', 'Year', 'Doors', 'Horsepower', 'EngineSize', 'Seats', 'Cylinders', 'Gears']]\n",
    "plt.subplots(figsize=(10, 9))\n",
    "sns.heatmap(data.corr(), annot=True, cmap='RdYlGn_r', linewidths=0.5)\n",
    "plt.show()"
   ]
  },
  {
   "cell_type": "markdown",
   "metadata": {},
   "source": [
    "<br>\n",
    "### Analysis\n",
    "<br>\n",
    "Die stärksten Korrelationen bezüglich des Preises bestehen bei folgenden Attributen:\n",
    "<br><br>\n",
    "\n",
    "Attribut | Korrelation\n",
    ":-- | :--\n",
    "`Horsepower` | 0.71\n",
    "`EngineSize` | 0.57\n",
    "`Cylinders` | 0.56\n",
    "`Gears` | 0.47\n",
    "`Year` | 0.35\n",
    "\n",
    "<br>\n",
    "Die negative Korrelation zwischen dem Preis und der `Mileage` (Korrelation: `-0.41`) war ebenfalls zu erwarten - denn je kleiner der Kilometerstand, desto teurer wird in der Regel ein Fahrzeug angeboten.\n",
    "<br>"
   ]
  },
  {
   "cell_type": "markdown",
   "metadata": {},
   "source": [
    "\n",
    "***\n",
    "\n",
    "### 4. Split your data into 80% train and 20% test set and normalize your data\n",
    "<br>\n",
    "### Splitting data into train and test set"
   ]
  },
  {
   "cell_type": "code",
   "execution_count": 6,
   "metadata": {},
   "outputs": [],
   "source": [
    "from sklearn.model_selection import train_test_split\n",
    "\n",
    "# Split into 80% training and 20% test set\n",
    "train, test = train_test_split(data, test_size=0.2)\n",
    "\n",
    "# Separate target and features\n",
    "X_train = train.drop('Price', axis=1)\n",
    "X_test = test.drop('Price', axis=1)\n",
    "\n",
    "y_train = train.Price\n",
    "y_test = test.Price"
   ]
  },
  {
   "cell_type": "markdown",
   "metadata": {},
   "source": [
    "<br>\n",
    "### Normalize data"
   ]
  },
  {
   "cell_type": "code",
   "execution_count": 7,
   "metadata": {},
   "outputs": [],
   "source": [
    "# Determine mean and std on training set\n",
    "mean = X_train.mean()\n",
    "std = X_train.std()\n",
    "\n",
    "# Normalize feature tables by Z-score\n",
    "X_train = (X_train - mean) / std\n",
    "X_test = (X_test - mean) / std"
   ]
  },
  {
   "cell_type": "markdown",
   "metadata": {},
   "source": [
    "\n",
    "***\n",
    "\n",
    "### 5. Train a k-NN regression model and determine the best choice for k\n",
    "<br>"
   ]
  },
  {
   "cell_type": "markdown",
   "metadata": {},
   "source": [
    "### Apply _unweighted_ k-NN algorithm for different k > 0"
   ]
  },
  {
   "cell_type": "code",
   "execution_count": 8,
   "metadata": {},
   "outputs": [
    {
     "data": {
      "image/png": "[encoded data removed]",
      "text/plain": [
       "<matplotlib.figure.Figure at 0x20abf7b9978>"
      ]
     },
     "metadata": {},
     "output_type": "display_data"
    }
   ],
   "source": [
    "from sklearn.neighbors import KNeighborsRegressor\n",
    "from sklearn.metrics import explained_variance_score\n",
    "\n",
    "u_scores = []\n",
    "u_acc = []\n",
    "k_range = list(range(1,20))\n",
    "\n",
    "for k in k_range :\n",
    "    knn = KNeighborsRegressor(n_neighbors=k, weights='uniform')\n",
    "    knn.fit(X_train, y_train)\n",
    "    y_pred = knn.predict(X_test)\n",
    "    acc = explained_variance_score(y_test, y_pred)\n",
    "    u_scores.append(acc)\n",
    "    u_acc.append((k, y_test, y_pred, acc))\n",
    "    \n",
    "plt.plot(k_range, u_scores, color=\"red\")\n",
    "plt.xlabel('k')\n",
    "plt.ylabel('Accuracy')\n",
    "plt.show() "
   ]
  },
  {
   "cell_type": "markdown",
   "metadata": {},
   "source": [
    "<br>\n",
    "### Apply _weighted_ k-NN algorithm for different k > 0"
   ]
  },
  {
   "cell_type": "code",
   "execution_count": 9,
   "metadata": {},
   "outputs": [
    {
     "data": {
      "image/png": "[encoded data removed]",
      "text/plain": [
       "<matplotlib.figure.Figure at 0x20abf8957b8>"
      ]
     },
     "metadata": {},
     "output_type": "display_data"
    }
   ],
   "source": [
    "w_scores = []\n",
    "w_acc = []\n",
    "\n",
    "for k in k_range :\n",
    "    knn = KNeighborsRegressor(n_neighbors=k, weights='distance')\n",
    "    knn.fit(X_train, y_train)\n",
    "    y_pred = knn.predict(X_test)\n",
    "    acc = explained_variance_score(y_test, y_pred)\n",
    "    w_scores.append(acc)\n",
    "    w_acc.append((k, y_test, y_pred, acc))\n",
    "    \n",
    "plt.plot(k_range, u_scores, color=\"red\")\n",
    "plt.plot(k_range, w_scores, color=\"blue\")\n",
    "plt.xlabel('k')\n",
    "plt.ylabel('Accuracy')\n",
    "plt.show()"
   ]
  },
  {
   "cell_type": "markdown",
   "metadata": {},
   "source": [
    "<br>\n",
    "### 5.1 Measure prediction quality with R<sup>2</sup> and consult your favorited text book in order to correctly interpret this measure of explained variance\n",
    "<br>"
   ]
  },
  {
   "cell_type": "code",
   "execution_count": 10,
   "metadata": {},
   "outputs": [
    {
     "data": {
      "image/png": "[encoded data removed]",
      "text/plain": [
       "<matplotlib.figure.Figure at 0x20abf938b70>"
      ]
     },
     "metadata": {},
     "output_type": "display_data"
    },
    {
     "name": "stdout",
     "output_type": "stream",
     "text": [
      "Max r2 Score unweighted: 0.9146819595732931 with k: 4\n",
      "Max r2 Score weighted: 0.9159421847374182 with k: 7\n"
     ]
    }
   ],
   "source": [
    "from sklearn.metrics import r2_score\n",
    "\n",
    "u_r2_score = []\n",
    "w_r2_score = []\n",
    "\n",
    "#print(\"---------------------------\")\n",
    "#print(\"Unweighted k-NN algorithm: \")\n",
    "for acc_entry in u_acc:\n",
    "    #print(\"\")\n",
    "    #print(\"k: \" + str(acc_entry[0]))\n",
    "    #print(\"acc: \" + str(acc_entry[3]))\n",
    "    r2_score_for_k = r2_score(acc_entry[1], acc_entry[2], multioutput=\"raw_values\")\n",
    "    u_r2_score.append(r2_score_for_k)\n",
    "    #print(\"r2 score: \" + str(r2_score_for_k))\n",
    "\n",
    "#print(\"\")\n",
    "#print(\"---------------------------\")\n",
    "#print(\"Weighted k-NN algorithm: \")\n",
    "for acc_entry in w_acc:\n",
    "    #print(\"\")\n",
    "    #print(\"k: \" + str(acc_entry[0]))\n",
    "    #print(\"acc: \" + str(acc_entry[3]))\n",
    "    r2_score_for_k = r2_score(acc_entry[1], acc_entry[2], multioutput=\"raw_values\")\n",
    "    w_r2_score.append(r2_score_for_k)\n",
    "    #print(\"r2 score: \" + str(r2_score_for_k))\n",
    "    \n",
    "\n",
    "plt.plot(k_range, u_r2_score, color=\"red\")\n",
    "plt.plot(k_range, w_r2_score, color=\"blue\")\n",
    "plt.xlabel('k')\n",
    "plt.ylabel('r2 scores')\n",
    "plt.show()\n",
    "u_r2_max = max(u_r2_score)\n",
    "print(\"Max r2 Score unweighted: \" + str(u_r2_max[0]) + \" with k: \" + str(u_r2_score.index(u_r2_max)))\n",
    "w_r2_max = max(w_r2_score)\n",
    "print(\"Max r2 Score weighted: \" + str(w_r2_max[0]) + \" with k: \" + str(w_r2_score.index(w_r2_max)))"
   ]
  },
  {
   "cell_type": "markdown",
   "metadata": {},
   "source": [
    "<br>\n",
    "### 5.2 Measure prediction quality as the (mean) absolute price difference between your model and the ground truth\n",
    "<br>"
   ]
  },
  {
   "cell_type": "code",
   "execution_count": 13,
   "metadata": {},
   "outputs": [
    {
     "data": {
      "image/png": "[encoded data removed]",
      "text/plain": [
       "<matplotlib.figure.Figure at 0x20abf9dbb70>"
      ]
     },
     "metadata": {},
     "output_type": "display_data"
    },
    {
     "name": "stdout",
     "output_type": "stream",
     "text": [
      "Min absoult price difference unweighted: 4567.504667945548 with k: 4\n",
      "Min absoult price difference weighted: 4454.0817527441295 with k: 7\n"
     ]
    }
   ],
   "source": [
    "#print(\"---------------------------\")\n",
    "#print(\"Unweighted k-NN algorithm: \")\n",
    "\n",
    "u_mean = []\n",
    "w_mean = []\n",
    "\n",
    "for acc_entry in u_acc:\n",
    "    #print(\"\")\n",
    "    #print(\"k: \" + str(acc_entry[0]))\n",
    "    truth_col = acc_entry[1]\n",
    "    pred_col = acc_entry[2]\n",
    "    diff = []\n",
    "    for index, truth in enumerate(truth_col):\n",
    "        pred = pred_col[index]\n",
    "        diff.append(abs(truth - pred))\n",
    "    u_mean.append(pd.Series(diff).mean())\n",
    "\n",
    "#print(\"\")\n",
    "#print(\"---------------------------\")\n",
    "#print(\"Weighted k-NN algorithm: \")\n",
    "for acc_entry in w_acc:\n",
    "    #print(\"\")\n",
    "    #print(\"k: \" + str(acc_entry[0]))\n",
    "    truth_col = acc_entry[1]\n",
    "    pred_col = acc_entry[2]\n",
    "    diff = []\n",
    "    for index, truth in enumerate(truth_col):\n",
    "        pred = pred_col[index]\n",
    "        diff.append(abs(truth - pred))\n",
    "    w_mean.append(pd.Series(diff).mean())\n",
    "    \n",
    "plt.plot(k_range, u_mean, color=\"red\")\n",
    "plt.plot(k_range, w_mean, color=\"blue\")\n",
    "plt.xlabel('k')\n",
    "plt.ylabel('absolut price difference (mean)')\n",
    "plt.show()\n",
    "u_mean_min = min(u_mean)\n",
    "print(\"Min absoult price difference unweighted: \" + str(u_mean_min) + \" with k: \" + str(u_mean.index(u_mean_min)))\n",
    "w_mean_min = min(w_mean)\n",
    "print(\"Min absoult price difference weighted: \" + str(w_mean_min) + \" with k: \" + str(w_mean.index(w_mean_min)))"
   ]
  },
  {
   "cell_type": "markdown",
   "metadata": {},
   "source": [
    "<br>\n",
    "**Die Exekution mehrerer Durchläufe resultierte in den folgenden Daten:**\n",
    "<br><br>\n",
    "<center>**Unweighted:**</center>\n",
    "\n",
    "run | k | R<sup>2</sup> Score\n",
    ":-- | :-- | :--\n",
    "1 | 3 | 0.906496\n",
    "2 | 3 | 0.913826 \n",
    "3 | 4 | 0.926145\n",
    "4 | 5 | 0.910161\n",
    "5 | 3 | 0.905877\n",
    "6 | 3 | 0.911533\n",
    "7 | 4 | 0.920507\n",
    "8 | 2 | 0.919110\n",
    "9 | 4 | 0.914681\n",
    "<br>\n",
    "<center>**Weighted:**</center>\n",
    "\n",
    "run | k | R<sup>2</sup> Score\n",
    ":-- | :-- | :--\n",
    "1 | 6 | 0.908385 \n",
    "2 | 6 | 0.917298\n",
    "3 | 6 | 0.930464 \n",
    "4 | 7 | 0.915155\n",
    "5 | 5 | 0.911095 \n",
    "6 | 10 | 0.915280\n",
    "7 | 7 | 0.925051\n",
    "8 | 3 | 0.924393\n",
    "9 | 7 | 0.915942\n",
    "<br>\n",
    "<center>**Unweighted:**</center>\n",
    "\n",
    "run | k | absolut price difference (mean)\n",
    ":-- | :-- | :--\n",
    "1 | 4 | 4582.11\n",
    "2 | 3 | 4550.54\n",
    "3 | 4 | 4509.67  \n",
    "4 | 3 | 4530.19\n",
    "5 | 3 | 4592.94\n",
    "6 | 3 | 4556.59\n",
    "7 | 4 | 4513.39\n",
    "8 | 5 | 4583.05\n",
    "9 | 4 | 4567.50\n",
    "<br>\n",
    "<center>**Weighted:**</center>\n",
    "\n",
    "run | k | absolut price difference (mean)\n",
    ":-- | :-- | :--\n",
    "1 | 7 | 4426.27\n",
    "2 | 6 | 4395.42\n",
    "3 | 7 | 4362.13  \n",
    "4 | 8 | 4390.80\n",
    "5 | 5 | 4455.62\n",
    "6 | 7 | 4437.45\n",
    "7 | 7 | 4376.73\n",
    "8 | 9 | 4425.25\n",
    "9 | 7 | 4454.08"
   ]
  },
  {
   "cell_type": "markdown",
   "metadata": {},
   "source": [
    "<br>\n",
    "***\n",
    "\n",
    "## Conclusion\n",
    "<br>\n",
    "Nach mehreren Dürchlaufen sieht man, dass der gewichtete (_weighted_) k-NN-Algorithmus immer besser abschneidet als sein ungewichtetes (_unweighted_) Pendant. Zusätzlich ist der gewichtete k-NN-Algorithmus auch über eine grössere Range von _k_ stabiler, was an der blauen Linie innerhalb der einzelnen Graphen erkennbar ist.\n",
    "<br><br>\n",
    "Mit dem <span style=\"color:blue;\">gewichteten</span> k-NN-Algorithmus ist eine gute Anzahl Nachbarn (_k_) <span style=\"color:blue;\">7</span>, mit dem <span style=\"color:red;\">ungewichteten</span> k-NN-Algorithmus ist das am besten geeignete _k_ = <span style=\"color:red;\">4</span>."
   ]
  }
 ],
 "metadata": {
  "kernelspec": {
   "display_name": "Python 3",
   "language": "python",
   "name": "python3"
  },
  "language_info": {
   "codemirror_mode": {
    "name": "ipython",
    "version": 3
   },
   "file_extension": ".py",
   "mimetype": "text/x-python",
   "name": "python",
   "nbconvert_exporter": "python",
   "pygments_lexer": "ipython3",
   "version": "3.6.4"
  }
 },
 "nbformat": 4,
 "nbformat_minor": 2
}
